{
  "nbformat": 4,
  "nbformat_minor": 0,
  "metadata": {
    "colab": {
      "name": "Pytorch_MNIST_Classification_D19025_Rachita_Pateria.ipynb",
      "provenance": [],
      "include_colab_link": true
    },
    "kernelspec": {
      "name": "python3",
      "display_name": "Python 3"
    }
  },
  "cells": [
    {
      "cell_type": "markdown",
      "metadata": {
        "id": "view-in-github",
        "colab_type": "text"
      },
      "source": [
        "<a href=\"https://colab.research.google.com/github/rachita55/Neural-Network/blob/master/Pytorch_MNIST_Classification_D19025_Rachita_Pateria.ipynb\" target=\"_parent\"><img src=\"https://colab.research.google.com/assets/colab-badge.svg\" alt=\"Open In Colab\"/></a>"
      ]
    },
    {
      "cell_type": "markdown",
      "metadata": {
        "id": "KiF25zPq2e-Z",
        "colab_type": "text"
      },
      "source": [
        "**What is Neural Network?**\n",
        "\n",
        "Neural networks are a set of algorithms, modeled loosely after the human brain, that are designed to recognize patterns. The networks are built from individual parts approximating neurons, typically called units or simply “neurons.” Each unit has some number of weighted inputs. These weighted inputs are summed together (a linear combination) then passed through an activation function to get the unit’s output.\n",
        "\n",
        "Here we created 3 linear layers using RelU activation function.\n",
        "ReLU activation ( an activation function which allows positive values to pass through, whereas negative values are modified to zero )\n",
        "The output layer is a linear layer with LogSoftmax activation because this is a classification problem. Notw that Softmax is only applicable to the output layer.\n",
        "\n",
        "The softmax function, also known as softargmax or normalized exponential functionis a function that takes as input a vector of K real numbers, and normalizes it into a probability distribution consisting of K probabilities."
      ]
    },
    {
      "cell_type": "code",
      "metadata": {
        "id": "91ZN_lez2eZ9",
        "colab_type": "code",
        "colab": {
          "base_uri": "https://localhost:8080/",
          "height": 292
        },
        "outputId": "5ceb56cc-ff5e-456b-b486-95dd2942b622"
      },
      "source": [
        "# Import necessary libraries\n",
        "import matplotlib.pyplot as plt\n",
        "%matplotlib inline\n",
        "%config InlineBackend.figure_format = 'retina'\n",
        "import torch\n",
        "from torch import nn, optim\n",
        "import torch.nn.functional as F\n",
        "from torchvision import datasets,transforms\n",
        "from torch.autograd import Variable\n",
        "from time import time\n",
        "\n",
        "# Defining the transformations\n",
        "transform = transforms.Compose([transforms.ToTensor()])\n",
        "\n",
        "# Download the dataset, shuffle it & assign train and test sets\n",
        "trainset = datasets.MNIST('~/.pytorch/MNIST_data/',train=True,transform=transform,download=True)\n",
        "testset = datasets.MNIST('~/.pytorch/MNIST_data/',train=False,transform=transform,download=True)\n",
        "# Assign batch size = 64 (batch size is the number of images we want to read in one go)\n",
        "trainloader=torch.utils.data.DataLoader(trainset,batch_size=64,shuffle=True,num_workers=0)\n",
        "testloader=torch.utils.data.DataLoader(testset,batch_size=64,shuffle=True,num_workers=0)\n",
        "\n",
        "dataiter = iter(trainloader)\n",
        "images, labels = dataiter.next()\n",
        "\n",
        "print(images.shape) #64 images in each batch & each image has dimension 28x28\n"
      ],
      "execution_count": 1,
      "outputs": [
        {
          "output_type": "stream",
          "text": [
            "\r0it [00:00, ?it/s]"
          ],
          "name": "stderr"
        },
        {
          "output_type": "stream",
          "text": [
            "Downloading http://yann.lecun.com/exdb/mnist/train-images-idx3-ubyte.gz to /root/.pytorch/MNIST_data/MNIST/raw/train-images-idx3-ubyte.gz\n"
          ],
          "name": "stdout"
        },
        {
          "output_type": "stream",
          "text": [
            "9920512it [00:06, 1623274.42it/s]                            \n"
          ],
          "name": "stderr"
        },
        {
          "output_type": "stream",
          "text": [
            "Extracting /root/.pytorch/MNIST_data/MNIST/raw/train-images-idx3-ubyte.gz to /root/.pytorch/MNIST_data/MNIST/raw\n"
          ],
          "name": "stdout"
        },
        {
          "output_type": "stream",
          "text": [
            "  0%|          | 0/28881 [00:00<?, ?it/s]"
          ],
          "name": "stderr"
        },
        {
          "output_type": "stream",
          "text": [
            "Downloading http://yann.lecun.com/exdb/mnist/train-labels-idx1-ubyte.gz to /root/.pytorch/MNIST_data/MNIST/raw/train-labels-idx1-ubyte.gz\n"
          ],
          "name": "stdout"
        },
        {
          "output_type": "stream",
          "text": [
            "32768it [00:00, 121029.31it/s]           \n",
            "0it [00:00, ?it/s]"
          ],
          "name": "stderr"
        },
        {
          "output_type": "stream",
          "text": [
            "Extracting /root/.pytorch/MNIST_data/MNIST/raw/train-labels-idx1-ubyte.gz to /root/.pytorch/MNIST_data/MNIST/raw\n",
            "Downloading http://yann.lecun.com/exdb/mnist/t10k-images-idx3-ubyte.gz to /root/.pytorch/MNIST_data/MNIST/raw/t10k-images-idx3-ubyte.gz\n"
          ],
          "name": "stdout"
        },
        {
          "output_type": "stream",
          "text": [
            "1654784it [00:02, 747582.56it/s]                             \n",
            "0it [00:00, ?it/s]"
          ],
          "name": "stderr"
        },
        {
          "output_type": "stream",
          "text": [
            "Extracting /root/.pytorch/MNIST_data/MNIST/raw/t10k-images-idx3-ubyte.gz to /root/.pytorch/MNIST_data/MNIST/raw\n",
            "Downloading http://yann.lecun.com/exdb/mnist/t10k-labels-idx1-ubyte.gz to /root/.pytorch/MNIST_data/MNIST/raw/t10k-labels-idx1-ubyte.gz\n"
          ],
          "name": "stdout"
        },
        {
          "output_type": "stream",
          "text": [
            "8192it [00:00, 46803.15it/s]            \n"
          ],
          "name": "stderr"
        },
        {
          "output_type": "stream",
          "text": [
            "Extracting /root/.pytorch/MNIST_data/MNIST/raw/t10k-labels-idx1-ubyte.gz to /root/.pytorch/MNIST_data/MNIST/raw\n",
            "Processing...\n",
            "Done!\n",
            "torch.Size([64, 1, 28, 28])\n"
          ],
          "name": "stdout"
        }
      ]
    },
    {
      "cell_type": "code",
      "metadata": {
        "id": "4wYpo3gv2mMm",
        "colab_type": "code",
        "colab": {
          "base_uri": "https://localhost:8080/",
          "height": 246
        },
        "outputId": "a5f7c046-7793-4e30-a75a-592d9551c44f"
      },
      "source": [
        "figure = plt.figure()\n",
        "num_of_images = 60\n",
        "for index in range(1, num_of_images + 1):\n",
        "    plt.subplot(6, 10, index)\n",
        "    plt.axis('off')\n",
        "    plt.imshow(images[index].numpy().squeeze(), cmap='gray_r')"
      ],
      "execution_count": 2,
      "outputs": [
        {
          "output_type": "display_data",
          "data": {
            "image/png": "[encoded data removed]",
            "text/plain": [
              "<Figure size 432x288 with 60 Axes>"
            ]
          },
          "metadata": {
            "tags": [],
            "image/png": {
              "width": 349,
              "height": 229
            }
          }
        }
      ]
    },
    {
      "cell_type": "code",
      "metadata": {
        "id": "52JetT412-z8",
        "colab_type": "code",
        "colab": {
          "base_uri": "https://localhost:8080/",
          "height": 34
        },
        "outputId": "0dba40ef-2b54-4eab-c5ed-7a2bdd5c6aff"
      },
      "source": [
        "# Model 1 : 2 Layer\n",
        "# Neural network with epoch = 10 and learning rate = 0.01\n",
        "class Network(nn.Module):\n",
        "    def __init__(self):\n",
        "        super().__init__()\n",
        "        #Input Layer\n",
        "        self.fc1 = nn.Linear(784, 256)\n",
        "        #Output Layer \n",
        "        self.fc2 = nn.Linear(256, 10) \n",
        "        \n",
        "        # Dropout module with 0.2 drop probability\n",
        "        self.dropout = nn.Dropout(p=0.2)\n",
        "\n",
        "    def forward(self, x):\n",
        "        # make sure input tensor is flattened\n",
        "        x = x.view(x.shape[0], -1)\n",
        "\n",
        "        # Define RelU activation function now with dropout\n",
        "        x = self.dropout(F.relu(self.fc1(x)))\n",
        "\n",
        "        # Defining softmax output; since output so no dropout here\n",
        "        x = F.log_softmax(self.fc2(x), dim=1)\n",
        "\n",
        "        return x\n",
        "\n",
        "# Create a network     \n",
        "model=Network()\n",
        "\n",
        "optimizer=optim.SGD(model.parameters(),lr=0.01)\n",
        "criterion=nn.NLLLoss()\n",
        "\n",
        "epochs=10\n",
        "train_losses,test_losses=[],[]\n",
        "for e in range(epochs):\n",
        "    running_loss=0\n",
        "    for images,labels in trainloader:\n",
        "        optimizer.zero_grad()\n",
        "        log_ps=model(images)\n",
        "        loss=criterion(log_ps,labels)\n",
        "        loss.backward()\n",
        "        optimizer.step()\n",
        "        running_loss += loss.item() * images.shape[0]\n",
        "        \n",
        "    else:\n",
        "        test_loss=0\n",
        "        accuracy=0\n",
        "        \n",
        "        with torch.no_grad():\n",
        "            model.eval()\n",
        "            for images,labels in testloader:\n",
        "                log_ps=model(images)\n",
        "                test_loss+=criterion(log_ps,labels) *images.shape[0]\n",
        "                ps=torch.exp(log_ps)\n",
        "                top_p,top_class=ps.topk(1,dim=1)\n",
        "                equals=top_class==labels.view(*top_class.shape)\n",
        "                accuracy+=torch.sum(equals).item()\n",
        "        model.train()\n",
        "        train_losses.append(running_loss/len(trainloader.dataset))\n",
        "        test_losses.append(test_loss.item()/len(testloader.dataset))\n",
        "        pytorch_total_params = sum(p.numel() for p in model.parameters())\n",
        "\n",
        "print(\"Epoch: {}/{} - \".format(e+1, epochs),\n",
        "              \"Training Loss: {:.3f}  \".format(running_loss/len(trainloader.dataset)),\n",
        "              \"Test Loss: {:.3f}  \".format(test_loss/len(testloader.dataset)),\n",
        "              \"Test Accuracy: {:.3f}\".format(accuracy/len(testloader.dataset)),\n",
        "              \"Total parameters: {:.3f}\".format(pytorch_total_params))"
      ],
      "execution_count": 7,
      "outputs": [
        {
          "output_type": "stream",
          "text": [
            "Epoch: 10/10 -  Training Loss: 0.268   Test Loss: 0.238   Test Accuracy: 0.933 Total parameters: 203530.000\n"
          ],
          "name": "stdout"
        }
      ]
    },
    {
      "cell_type": "code",
      "metadata": {
        "id": "9qzW_Sx55hDj",
        "colab_type": "code",
        "colab": {
          "base_uri": "https://localhost:8080/",
          "height": 34
        },
        "outputId": "cf4ecca7-14c9-4331-946a-675f99565ea9"
      },
      "source": [
        "# Model 2 : 3 Layers\n",
        "# Neural network with epoch = 10 and learning rate = 0.01\n",
        "class Network(nn.Module):\n",
        "    def __init__(self):\n",
        "        super().__init__()\n",
        "        #Input Layer\n",
        "        self.fc1 = nn.Linear(784, 256)\n",
        "        #1st Hidden Layer \n",
        "        self.fc2 = nn.Linear(256, 64)\n",
        "        #Output Layer \n",
        "        self.fc3 = nn.Linear(64, 10)\n",
        " \n",
        "        \n",
        "        # Dropout module with 0.2 drop probability\n",
        "        self.dropout = nn.Dropout(p=0.2)\n",
        "\n",
        "    def forward(self, x):\n",
        "        # make sure input tensor is flattened\n",
        "        x = x.view(x.shape[0], -1)\n",
        "\n",
        "        # Define RelU activation function now with dropout\n",
        "        x = self.dropout(F.relu(self.fc1(x)))\n",
        "        x = self.dropout(F.relu(self.fc2(x)))\n",
        "\n",
        "        # Defining softmax output; since output so no dropout here\n",
        "        x = F.log_softmax(self.fc3(x), dim=1)\n",
        "\n",
        "        return x\n",
        "\n",
        "# Create a network     \n",
        "model=Network()\n",
        "\n",
        "optimizer=optim.SGD(model.parameters(),lr=0.01)\n",
        "criterion=nn.NLLLoss()\n",
        "\n",
        "epochs=10\n",
        "train_losses,test_losses=[],[]\n",
        "for e in range(epochs):\n",
        "    running_loss=0\n",
        "    for images,labels in trainloader:\n",
        "        optimizer.zero_grad()\n",
        "        log_ps=model(images)\n",
        "        loss=criterion(log_ps,labels)\n",
        "        loss.backward()\n",
        "        optimizer.step()\n",
        "        running_loss += loss.item() * images.shape[0]\n",
        "        \n",
        "    else:\n",
        "        test_loss=0\n",
        "        accuracy=0\n",
        "        \n",
        "        with torch.no_grad():\n",
        "            model.eval()\n",
        "            for images,labels in testloader:\n",
        "                log_ps=model(images)\n",
        "                test_loss+=criterion(log_ps,labels) *images.shape[0]\n",
        "                ps=torch.exp(log_ps)\n",
        "                top_p,top_class=ps.topk(1,dim=1)\n",
        "                equals=top_class==labels.view(*top_class.shape)\n",
        "                accuracy+=torch.sum(equals).item()\n",
        "        model.train()\n",
        "        train_losses.append(running_loss/len(trainloader.dataset))\n",
        "        test_losses.append(test_loss.item()/len(testloader.dataset))\n",
        "\n",
        "print(\"Epoch: {}/{} - \".format(e+1, epochs),\n",
        "              \"Training Loss: {:.3f}  \".format(running_loss/len(trainloader.dataset)),\n",
        "              \"Test Loss: {:.3f}  \".format(test_loss/len(testloader.dataset)),\n",
        "              \"Test Accuracy: {:.3f}\".format(accuracy/len(testloader.dataset)),\n",
        "              \"Total parameters: {:.3f}\".format(pytorch_total_params))"
      ],
      "execution_count": 10,
      "outputs": [
        {
          "output_type": "stream",
          "text": [
            "Epoch: 10/10 -  Training Loss: 0.260   Test Loss: 0.200   Test Accuracy: 0.941 Total parameters: 203530.000\n"
          ],
          "name": "stdout"
        }
      ]
    },
    {
      "cell_type": "code",
      "metadata": {
        "id": "v1lQbGpg6IDL",
        "colab_type": "code",
        "colab": {
          "base_uri": "https://localhost:8080/",
          "height": 34
        },
        "outputId": "1fcc9f65-9cdd-46cd-8ead-7e8fed654457"
      },
      "source": [
        "# Model 3 : 4 Layers\n",
        "# Neural network with epoch = 10 and learning rate = 0.01\n",
        "class Network(nn.Module):\n",
        "    def __init__(self):\n",
        "        super().__init__()\n",
        "        #Input Layer\n",
        "        self.fc1 = nn.Linear(784, 256)\n",
        "        #1st Hidden Layer \n",
        "        self.fc2 = nn.Linear(256, 128)\n",
        "        #2nd Hidden Layer \n",
        "        self.fc3 = nn.Linear(128, 64)\n",
        "        # Output Layer \n",
        "        self.fc4 = nn.Linear(64, 10) \n",
        "        \n",
        "        # Dropout module with 0.2 drop probability\n",
        "        self.dropout = nn.Dropout(p=0.2)\n",
        "\n",
        "    def forward(self, x):\n",
        "        # make sure input tensor is flattened\n",
        "        x = x.view(x.shape[0], -1)\n",
        "\n",
        "        # Define RelU activation function now with dropout\n",
        "        x = self.dropout(F.relu(self.fc1(x)))\n",
        "        x = self.dropout(F.relu(self.fc2(x)))\n",
        "        x = self.dropout(F.relu(self.fc3(x))) \n",
        "\n",
        "        # Defining softmax output; since output so no dropout here\n",
        "        x = F.log_softmax(self.fc4(x), dim=1)\n",
        "\n",
        "        return x\n",
        "\n",
        "# Create a network     \n",
        "model=Network()\n",
        "\n",
        "optimizer=optim.SGD(model.parameters(),lr=0.01)\n",
        "criterion=nn.NLLLoss()\n",
        "\n",
        "epochs=10\n",
        "train_losses,test_losses=[],[]\n",
        "for e in range(epochs):\n",
        "    running_loss=0\n",
        "    for images,labels in trainloader:\n",
        "        optimizer.zero_grad()\n",
        "        log_ps=model(images)\n",
        "        loss=criterion(log_ps,labels)\n",
        "        loss.backward()\n",
        "        optimizer.step()\n",
        "        running_loss += loss.item() * images.shape[0]\n",
        "        \n",
        "    else:\n",
        "        test_loss=0\n",
        "        accuracy=0\n",
        "        \n",
        "        with torch.no_grad():\n",
        "            model.eval()\n",
        "            for images,labels in testloader:\n",
        "                log_ps=model(images)\n",
        "                test_loss+=criterion(log_ps,labels) *images.shape[0]\n",
        "                ps=torch.exp(log_ps)\n",
        "                top_p,top_class=ps.topk(1,dim=1)\n",
        "                equals=top_class==labels.view(*top_class.shape)\n",
        "                accuracy+=torch.sum(equals).item()\n",
        "        model.train()\n",
        "        train_losses.append(running_loss/len(trainloader.dataset))\n",
        "        test_losses.append(test_loss.item()/len(testloader.dataset))\n",
        "\n",
        "print(\"Epoch: {}/{} - \".format(e+1, epochs),\n",
        "              \"Training Loss: {:.3f}  \".format(running_loss/len(trainloader.dataset)),\n",
        "              \"Test Loss: {:.3f}  \".format(test_loss/len(testloader.dataset)),\n",
        "              \"Test Accuracy: {:.3f}\".format(accuracy/len(testloader.dataset)),\n",
        "              \"Total parameters: {:.3f}\".format(pytorch_total_params))"
      ],
      "execution_count": 22,
      "outputs": [
        {
          "output_type": "stream",
          "text": [
            "Epoch: 10/10 -  Training Loss: 0.256   Test Loss: 0.182   Test Accuracy: 0.945 Total parameters: 203530.000\n"
          ],
          "name": "stdout"
        }
      ]
    },
    {
      "cell_type": "code",
      "metadata": {
        "id": "K3sQWyYk7WN0",
        "colab_type": "code",
        "colab": {
          "base_uri": "https://localhost:8080/",
          "height": 34
        },
        "outputId": "ce08cd62-9839-4176-c388-4392db83c1a2"
      },
      "source": [
        "# Model 3 : 4 Layers\n",
        "# Neural network with epoch = 10 and learning rate = 0.03\n",
        "class Network(nn.Module):\n",
        "    def __init__(self):\n",
        "        super().__init__()\n",
        "        #Input Layer\n",
        "        self.fc1 = nn.Linear(784, 256)\n",
        "        #1st Hidden Layer \n",
        "        self.fc2 = nn.Linear(256, 128)\n",
        "        #2nd Hidden Layer \n",
        "        self.fc3 = nn.Linear(128, 64)\n",
        "        # Output Layer \n",
        "        self.fc4 = nn.Linear(64, 10) \n",
        "        \n",
        "        # Dropout module with 0.2 drop probability\n",
        "        self.dropout = nn.Dropout(p=0.2)\n",
        "\n",
        "    def forward(self, x):\n",
        "        # make sure input tensor is flattened\n",
        "        x = x.view(x.shape[0], -1)\n",
        "\n",
        "        # Define RelU activation function now with dropout\n",
        "        x = self.dropout(F.relu(self.fc1(x)))\n",
        "        x = self.dropout(F.relu(self.fc2(x)))\n",
        "        x = self.dropout(F.relu(self.fc3(x))) \n",
        "\n",
        "        # Defining softmax output; since output so no dropout here\n",
        "        x = F.log_softmax(self.fc4(x), dim=1)\n",
        "\n",
        "        return x\n",
        "\n",
        "# Create a network     \n",
        "model=Network()\n",
        "\n",
        "optimizer=optim.SGD(model.parameters(),lr=0.03)\n",
        "criterion=nn.NLLLoss()\n",
        "\n",
        "epochs=10\n",
        "train_losses,test_losses=[],[]\n",
        "for e in range(epochs):\n",
        "    running_loss=0\n",
        "    for images,labels in trainloader:\n",
        "        optimizer.zero_grad()\n",
        "        log_ps=model(images)\n",
        "        loss=criterion(log_ps,labels)\n",
        "        loss.backward()\n",
        "        optimizer.step()\n",
        "        running_loss += loss.item() * images.shape[0]\n",
        "        \n",
        "    else:\n",
        "        test_loss=0\n",
        "        accuracy=0\n",
        "        \n",
        "        with torch.no_grad():\n",
        "            model.eval()\n",
        "            for images,labels in testloader:\n",
        "                log_ps=model(images)\n",
        "                test_loss+=criterion(log_ps,labels) *images.shape[0]\n",
        "                ps=torch.exp(log_ps)\n",
        "                top_p,top_class=ps.topk(1,dim=1)\n",
        "                equals=top_class==labels.view(*top_class.shape)\n",
        "                accuracy+=torch.sum(equals).item()\n",
        "        model.train()\n",
        "        train_losses.append(running_loss/len(trainloader.dataset))\n",
        "        test_losses.append(test_loss.item()/len(testloader.dataset))\n",
        "\n",
        "print(\"Epoch: {}/{} - \".format(e+1, epochs),\n",
        "              \"Training Loss: {:.3f}  \".format(running_loss/len(trainloader.dataset)),\n",
        "              \"Test Loss: {:.3f}  \".format(test_loss/len(testloader.dataset)),\n",
        "              \"Test Accuracy: {:.3f}\".format(accuracy/len(testloader.dataset)),\n",
        "              \"Total parameters: {:.3f}\".format(pytorch_total_params))"
      ],
      "execution_count": 20,
      "outputs": [
        {
          "output_type": "stream",
          "text": [
            "Epoch: 10/10 -  Training Loss: 0.111   Test Loss: 0.090   Test Accuracy: 0.974 Total parameters: 203530.000\n"
          ],
          "name": "stdout"
        }
      ]
    },
    {
      "cell_type": "code",
      "metadata": {
        "id": "mYUN-FaX7WlG",
        "colab_type": "code",
        "colab": {
          "base_uri": "https://localhost:8080/",
          "height": 34
        },
        "outputId": "493c7473-be70-4e82-bc9d-aeb7d27ba4e1"
      },
      "source": [
        "# Model 3 : 4 Layers\n",
        "# Neural network with epoch = 10 and learning rate = 0.05\n",
        "class Network(nn.Module):\n",
        "    def __init__(self):\n",
        "        super().__init__()\n",
        "        #Input Layer\n",
        "        self.fc1 = nn.Linear(784, 256)\n",
        "        #1st Hidden Layer \n",
        "        self.fc2 = nn.Linear(256, 128)\n",
        "        #2nd Hidden Layer \n",
        "        self.fc3 = nn.Linear(128, 64)\n",
        "        # Output Layer \n",
        "        self.fc4 = nn.Linear(64, 10) \n",
        "        \n",
        "        # Dropout module with 0.2 drop probability\n",
        "        self.dropout = nn.Dropout(p=0.2)\n",
        "\n",
        "    def forward(self, x):\n",
        "        # make sure input tensor is flattened\n",
        "        x = x.view(x.shape[0], -1)\n",
        "\n",
        "        # Define RelU activation function now with dropout\n",
        "        x = self.dropout(F.relu(self.fc1(x)))\n",
        "        x = self.dropout(F.relu(self.fc2(x)))\n",
        "        x = self.dropout(F.relu(self.fc3(x))) \n",
        "\n",
        "        # Defining softmax output; since output so no dropout here\n",
        "        x = F.log_softmax(self.fc4(x), dim=1)\n",
        "\n",
        "        return x\n",
        "\n",
        "# Create a network     \n",
        "model=Network()\n",
        "\n",
        "optimizer=optim.SGD(model.parameters(),lr=0.05)\n",
        "criterion=nn.NLLLoss()\n",
        "\n",
        "epochs=10\n",
        "train_losses,test_losses=[],[]\n",
        "for e in range(epochs):\n",
        "    running_loss=0\n",
        "    for images,labels in trainloader:\n",
        "        optimizer.zero_grad()\n",
        "        log_ps=model(images)\n",
        "        loss=criterion(log_ps,labels)\n",
        "        loss.backward()\n",
        "        optimizer.step()\n",
        "        running_loss += loss.item() * images.shape[0]\n",
        "        \n",
        "    else:\n",
        "        test_loss=0\n",
        "        accuracy=0\n",
        "        \n",
        "        with torch.no_grad():\n",
        "            model.eval()\n",
        "            for images,labels in testloader:\n",
        "                log_ps=model(images)\n",
        "                test_loss+=criterion(log_ps,labels) *images.shape[0]\n",
        "                ps=torch.exp(log_ps)\n",
        "                top_p,top_class=ps.topk(1,dim=1)\n",
        "                equals=top_class==labels.view(*top_class.shape)\n",
        "                accuracy+=torch.sum(equals).item()\n",
        "        model.train()\n",
        "        train_losses.append(running_loss/len(trainloader.dataset))\n",
        "        test_losses.append(test_loss.item()/len(testloader.dataset))\n",
        "\n",
        "print(\"Epoch: {}/{} - \".format(e+1, epochs),\n",
        "              \"Training Loss: {:.3f}  \".format(running_loss/len(trainloader.dataset)),\n",
        "              \"Test Loss: {:.3f}  \".format(test_loss/len(testloader.dataset)),\n",
        "              \"Test Accuracy: {:.3f}\".format(accuracy/len(testloader.dataset)),\n",
        "              \"Total parameters: {:.3f}\".format(pytorch_total_params))"
      ],
      "execution_count": 19,
      "outputs": [
        {
          "output_type": "stream",
          "text": [
            "Epoch: 10/10 -  Training Loss: 0.084   Test Loss: 0.079   Test Accuracy: 0.977 Total parameters: 203530.000\n"
          ],
          "name": "stdout"
        }
      ]
    },
    {
      "cell_type": "code",
      "metadata": {
        "id": "kJUj6Bo67Wgx",
        "colab_type": "code",
        "colab": {
          "base_uri": "https://localhost:8080/",
          "height": 34
        },
        "outputId": "80bf13d1-faa3-4c71-c33d-1791dbb38008"
      },
      "source": [
        "# Model 3 : 4 Layers\n",
        "# Neural network with epoch = 10 and learning rate = 0.1\n",
        "class Network(nn.Module):\n",
        "    def __init__(self):\n",
        "        super().__init__()\n",
        "        #Input Layer\n",
        "        self.fc1 = nn.Linear(784, 256)\n",
        "        #1st Hidden Layer \n",
        "        self.fc2 = nn.Linear(256, 128)\n",
        "        #2nd Hidden Layer \n",
        "        self.fc3 = nn.Linear(128, 64)\n",
        "        # Output Layer \n",
        "        self.fc4 = nn.Linear(64, 10) \n",
        "        \n",
        "        # Dropout module with 0.2 drop probability\n",
        "        self.dropout = nn.Dropout(p=0.2)\n",
        "\n",
        "    def forward(self, x):\n",
        "        # make sure input tensor is flattened\n",
        "        x = x.view(x.shape[0], -1)\n",
        "\n",
        "        # Define RelU activation function now with dropout\n",
        "        x = self.dropout(F.relu(self.fc1(x)))\n",
        "        x = self.dropout(F.relu(self.fc2(x)))\n",
        "        x = self.dropout(F.relu(self.fc3(x))) \n",
        "\n",
        "        # Defining softmax output; since output so no dropout here\n",
        "        x = F.log_softmax(self.fc4(x), dim=1)\n",
        "\n",
        "        return x\n",
        "\n",
        "# Create a network     \n",
        "model=Network()\n",
        "\n",
        "optimizer=optim.SGD(model.parameters(),lr=0.1)\n",
        "criterion=nn.NLLLoss()\n",
        "\n",
        "epochs=10\n",
        "train_losses,test_losses=[],[]\n",
        "for e in range(epochs):\n",
        "    running_loss=0\n",
        "    for images,labels in trainloader:\n",
        "        optimizer.zero_grad()\n",
        "        log_ps=model(images)\n",
        "        loss=criterion(log_ps,labels)\n",
        "        loss.backward()\n",
        "        optimizer.step()\n",
        "        running_loss += loss.item() * images.shape[0]\n",
        "        \n",
        "    else:\n",
        "        test_loss=0\n",
        "        accuracy=0\n",
        "        \n",
        "        with torch.no_grad():\n",
        "            model.eval()\n",
        "            for images,labels in testloader:\n",
        "                log_ps=model(images)\n",
        "                test_loss+=criterion(log_ps,labels) *images.shape[0]\n",
        "                ps=torch.exp(log_ps)\n",
        "                top_p,top_class=ps.topk(1,dim=1)\n",
        "                equals=top_class==labels.view(*top_class.shape)\n",
        "                accuracy+=torch.sum(equals).item()\n",
        "        model.train()\n",
        "        train_losses.append(running_loss/len(trainloader.dataset))\n",
        "        test_losses.append(test_loss.item()/len(testloader.dataset))\n",
        "\n",
        "print(\"Epoch: {}/{} - \".format(e+1, epochs),\n",
        "              \"Training Loss: {:.3f}  \".format(running_loss/len(trainloader.dataset)),\n",
        "              \"Test Loss: {:.3f}  \".format(test_loss/len(testloader.dataset)),\n",
        "              \"Test Accuracy: {:.3f}\".format(accuracy/len(testloader.dataset)),\n",
        "              \"Total parameters: {:.3f}\".format(pytorch_total_params))"
      ],
      "execution_count": 18,
      "outputs": [
        {
          "output_type": "stream",
          "text": [
            "Epoch: 10/10 -  Training Loss: 0.060   Test Loss: 0.074   Test Accuracy: 0.979 Total parameters: 203530.000\n"
          ],
          "name": "stdout"
        }
      ]
    }
  ]
}